{
 "cells": [
  {
   "cell_type": "markdown",
   "metadata": {},
   "source": [
    "# Easy used Matlib"
   ]
  },
  {
   "cell_type": "markdown",
   "metadata": {},
   "source": [
    "## font"
   ]
  },
  {
   "cell_type": "code",
   "execution_count": 2,
   "metadata": {},
   "outputs": [
    {
     "name": "stdout",
     "output_type": "stream",
     "text": [
      "{'Damascus': '/System/Library/Fonts/Supplemental/Damascus.ttc', 'Party LET': '/System/Library/Fonts/Supplemental/PartyLET-plain.ttf', 'Apple Braille': '/System/Library/Fonts/Apple Braille.ttf', 'Sana': '/System/Library/Fonts/Supplemental/Sana.ttc', 'Wingdings 3': '/System/Library/Fonts/Supplemental/Wingdings 3.ttf', 'Beirut': '/System/Library/Fonts/Supplemental/Beirut.ttc', 'Mishafi': '/System/Library/Fonts/Supplemental/Mishafi.ttf', 'Wingdings': '/System/Library/Fonts/Supplemental/Wingdings.ttf', 'Muna': '/System/Library/Fonts/Supplemental/Muna.ttc', 'Gill Sans': '/System/Library/Fonts/Supplemental/GillSans.ttc', '.Keyboard': '/System/Library/Fonts/Keyboard.ttf', 'Al Nile': '/System/Library/Fonts/Supplemental/Al Nile.ttc', 'DecoType Naskh': '/System/Library/Fonts/Supplemental/DecoTypeNaskh.ttc', 'Mishafi Gold': '/System/Library/Fonts/Supplemental/Mishafi Gold.ttf', 'Chalkboard SE': '/System/Library/Fonts/Supplemental/ChalkboardSE.ttc', 'Wingdings 2': '/System/Library/Fonts/Supplemental/Wingdings 2.ttf', 'Phosphate': '/System/Library/Fonts/Supplemental/Phosphate.ttc', 'Kailasa': '/System/Library/Fonts/Supplemental/Kailasa.ttc', 'Diwan Kufi': '/System/Library/Fonts/Supplemental/Diwan Kufi.ttc', 'Farah': '/System/Library/Fonts/Supplemental/Farah.ttc', 'Baghdad': '/System/Library/Fonts/Supplemental/Baghdad.ttc', 'American Typewriter': '/System/Library/Fonts/Supplemental/AmericanTypewriter.ttc', 'Diwan Thuluth': '/System/Library/Fonts/Supplemental/Diwan Thuluth.ttf', 'Menlo': '/System/Library/Fonts/Menlo.ttc', 'Savoye LET': '/System/Library/Fonts/Supplemental/Savoye LET.ttc', 'Waseem': '/System/Library/Fonts/Supplemental/Waseem.ttc', 'Webdings': '/System/Library/Fonts/Supplemental/Webdings.ttf', 'Farisi': '/System/Library/Fonts/Supplemental/Farisi.ttf', 'Academy Engraved LET': '/System/Library/Fonts/Supplemental/Academy Engraved LET Fonts.ttf', 'Chalkboard': '/System/Library/Fonts/Supplemental/Chalkboard.ttc', 'Al Tarikh': '/System/Library/Fonts/Supplemental/Al Tarikh.ttc'}\n"
     ]
    }
   ],
   "source": [
    "import matplotlib.pyplot as plt\n",
    "from matplotlib import font_manager\n",
    "\n",
    "fonts = {}\n",
    "for font in font_manager.fontManager.ttflist:\n",
    "    fonts[str(font.name)] = str(font.fname)\n",
    "print(fonts)\n"
   ]
  },
  {
   "cell_type": "markdown",
   "metadata": {},
   "source": [
    "## String in image"
   ]
  },
  {
   "cell_type": "code",
   "execution_count": 4,
   "metadata": {},
   "outputs": [
    {
     "data": {
      "image/png": "[encoded data removed]",
      "text/plain": [
       "<Figure size 432x288 with 1 Axes>"
      ]
     },
     "metadata": {
      "needs_background": "light"
     },
     "output_type": "display_data"
    }
   ],
   "source": [
    "from matplotlib import rcParams\n",
    "import matplotlib.pyplot as plt\n",
    "\n",
    "rcParams['font.sans-serif']=['Al Nile']\n",
    "\n",
    "fig, ax=plt.subplots()\n",
    "ax.plot([1,2,3],label='test')\n",
    "plt.show()"
   ]
  }
 ],
 "metadata": {
  "interpreter": {
   "hash": "aee8b7b246df8f9039afb4144a1f6fd8d2ca17a180786b69acc140d282b71a49"
  },
  "kernelspec": {
   "display_name": "Python 3.9.12 64-bit",
   "language": "python",
   "name": "python3"
  },
  "language_info": {
   "codemirror_mode": {
    "name": "ipython",
    "version": 3
   },
   "file_extension": ".py",
   "mimetype": "text/x-python",
   "name": "python",
   "nbconvert_exporter": "python",
   "pygments_lexer": "ipython3",
   "version": "3.9.13"
  },
  "orig_nbformat": 4
 },
 "nbformat": 4,
 "nbformat_minor": 2
}
